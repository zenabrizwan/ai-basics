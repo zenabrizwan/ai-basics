{
  "nbformat": 4,
  "nbformat_minor": 0,
  "metadata": {
    "colab": {
      "provenance": []
    },
    "kernelspec": {
      "name": "python3",
      "display_name": "Python 3"
    },
    "language_info": {
      "name": "python"
    }
  },
  "cells": [
    {
      "cell_type": "code",
      "source": [
        "import numpy as np\n",
        "import pandas as pd\n",
        "import matplotlib.pyplot as plt\n",
        "from sklearn.model_selection import train_test_split\n",
        "from sklearn.metrics import accuracy_score, classification_report, roc_curve, roc_auc_score\n",
        "from sklearn.neural_network import MLPClassifier\n"
      ],
      "metadata": {
        "id": "irwZfvxMoYbC"
      },
      "execution_count": null,
      "outputs": []
    },
    {
      "cell_type": "code",
      "source": [
        "!pip install scikit-learn\n"
      ],
      "metadata": {
        "id": "rfp7siYEo9H7"
      },
      "execution_count": null,
      "outputs": []
    },
    {
      "cell_type": "code",
      "execution_count": null,
      "metadata": {
        "id": "p4Ikztp8oRNN"
      },
      "outputs": [],
      "source": [
        "\n",
        "data = pd.read_csv(\"flowers.csv\")\n",
        "X = data.drop('label', axis=1) / 255.0\n",
        "y = data['label']\n",
        "\n",
        "X_train, X_test, y_train, y_test = train_test_split(X, y, test_size=0.2, random_state=42)\n",
        "X_train, X_val, y_train, y_val = train_test_split(X_train, y_train, test_size=0.2, random_state=42)\n",
        "\n",
        "\n",
        "\n",
        "mlp = MLPClassifier(hidden_layer_sizes=(100, 50), activation='relu', solver='sgd', learning_rate_init=0.01, max_iter=10, random_state=42)\n",
        "mlp.fit(X_train, y_train)\n",
        "\n",
        "\n"
      ]
    },
    {
      "cell_type": "code",
      "source": [
        "\n",
        "test_pred = mlp.predict(X_test)\n",
        "test_accuracy = accuracy_score(y_test, test_pred)\n",
        "test_classification_report = classification_report(y_test, test_pred)\n",
        "\n",
        "print(\"Test Accuracy:\", test_accuracy)\n",
        "print(\"Test Classification Report:\")\n",
        "print(test_classification_report)\n",
        "\n",
        "\n"
      ],
      "metadata": {
        "id": "OMdQ0LVnpGHs"
      },
      "execution_count": null,
      "outputs": []
    },
    {
      "cell_type": "code",
      "source": [
        "# ROC Curve and AUC\n",
        "plt.figure(figsize=(8, 6))\n",
        "\n",
        "y_prob = mlp.predict_proba(X_test)\n",
        "fpr, tpr, _ = roc_curve(pd.get_dummies(y_test).values.ravel(), y_prob.ravel())\n",
        "\n",
        "plt.plot(fpr, tpr, color='darkorange', lw=2, label='ROC curve')\n",
        "plt.plot([0, 1], [0, 1], color='navy', lw=2, linestyle='--')\n",
        "plt.xlabel('False Positive Rate')\n",
        "plt.ylabel('True Positive Rate')\n",
        "plt.title('ROC Curve')\n",
        "plt.legend(loc=\"lower right\")\n",
        "plt.show()\n",
        "\n",
        "\n",
        "auc_score = roc_auc_score(pd.get_dummies(y_test).values.ravel(), y_prob.ravel())\n",
        "print(\"AUC Score:\", auc_score)\n"
      ],
      "metadata": {
        "id": "7a2R1K7wpZOf"
      },
      "execution_count": null,
      "outputs": []
    }
  ]
}