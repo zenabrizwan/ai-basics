{
  "nbformat": 4,
  "nbformat_minor": 0,
  "metadata": {
    "colab": {
      "provenance": []
    },
    "kernelspec": {
      "name": "python3",
      "display_name": "Python 3"
    },
    "language_info": {
      "name": "python"
    }
  },
  "cells": [
    {
      "cell_type": "code",
      "execution_count": null,
      "metadata": {
        "colab": {
          "base_uri": "https://localhost:8080/"
        },
        "id": "WdBH22UWdaop",
        "outputId": "9a6d87a3-ed64-4c2e-e4d2-2599d0788be2"
      },
      "outputs": [
        {
          "output_type": "stream",
          "name": "stdout",
          "text": [
            "OR Gate:\n",
            "(0, 0) -> 0\n",
            "(0, 1) -> 1\n",
            "(1, 0) -> 1\n",
            "(1, 1) -> 1\n",
            "\n",
            "AND Gate:\n",
            "(0, 0) -> 0\n",
            "(0, 1) -> 0\n",
            "(1, 0) -> 0\n",
            "(1, 1) -> 1\n"
          ]
        }
      ],
      "source": [
        "#6.1\n",
        "\n",
        "import numpy as np\n",
        "\n",
        "class Perceptron:\n",
        "    def __init__(self, num_inputs, learning_rate=0.1):\n",
        "        self.weights = np.random.rand(num_inputs + 1) * 0.1 - 0.05\n",
        "        self.learning_rate = learning_rate\n",
        "\n",
        "    def activation(self, x):\n",
        "        return 1 if x > 0 else 0\n",
        "\n",
        "    def predict(self, inputs):\n",
        "        inputs = np.insert(inputs, 0, 1)\n",
        "        return self.activation(np.dot(self.weights, inputs))\n",
        "\n",
        "    def train(self, inputs, target):\n",
        "        prediction = self.predict(inputs)\n",
        "        error = target - prediction\n",
        "        self.weights += self.learning_rate * error * np.insert(inputs, 0, 1)\n",
        "\n",
        "class ORGate:\n",
        "    def __init__(self):\n",
        "        self.perceptron = Perceptron(2)\n",
        "        self.perceptron.weights = np.array([-0.3, 0.5, 0.5])\n",
        "\n",
        "    def evaluate(self, x1, x2):\n",
        "        return self.perceptron.predict([x1, x2])\n",
        "\n",
        "class ANDGate:\n",
        "    def __init__(self):\n",
        "        self.perceptron = Perceptron(2)\n",
        "        self.perceptron.weights = np.array([-0.8, 0.5, 0.5])\n",
        "\n",
        "    def evaluate(self, x1, x2):\n",
        "        return self.perceptron.predict([x1, x2])\n",
        "\n",
        "or_gate = ORGate()\n",
        "and_gate = ANDGate()\n",
        "test_cases = [(0, 0), (0, 1), (1, 0), (1, 1)]\n",
        "print(\"OR Gate:\")\n",
        "for test_case in test_cases:\n",
        "    result = or_gate.evaluate(*test_case)\n",
        "    print(f\"{test_case} -> {result}\")\n",
        "print(\"\\nAND Gate:\")\n",
        "for test_case in test_cases:\n",
        "    result = and_gate.evaluate(*test_case)\n",
        "    print(f\"{test_case} -> {result}\")"
      ]
    },
    {
      "cell_type": "code",
      "source": [
        "#6.2\n",
        "\n",
        "import pandas as pd\n",
        "import matplotlib.pyplot as plt\n",
        "from sklearn.preprocessing import LabelEncoder, OneHotEncoder\n",
        "from sklearn.neural_network import MLPClassifier\n",
        "from sklearn.model_selection import train_test_split\n",
        "from sklearn.metrics import accuracy_score\n",
        "\n",
        "#1. Load the given dataset\n",
        "df = pd.read_csv('/content/horseRacing - horseRacing.csv')\n",
        "\n",
        "#2. Clean the dataset\n",
        "missing_values = df.isnull().sum()\n",
        "print(\"Missing values:\")\n",
        "print(missing_values)\n",
        "duplicate_rows = df.duplicated().sum()\n",
        "print(\"Duplicate rows:\")\n",
        "print(duplicate_rows)\n",
        "df = df.dropna()\n",
        "df = df.drop_duplicates()\n",
        "\n",
        "#3. Convert labels into 0 or 1\n",
        "df['calc_position'] = df['calc_position'].apply(lambda x: 1 if x <= 3 else 0)\n",
        "\n",
        "#4. Plot statistics to perform exploratory data analysis\n",
        "plt.hist(df['calc_position'])\n",
        "plt.xlabel('Position')\n",
        "plt.ylabel('Frequency')\n",
        "plt.title('Histogram of Positions')\n",
        "plt.show()\n",
        "\n",
        "#5. What is wrong with dataset, how to solve it?\n",
        "# It seems the dataset might be imbalanced as there are significantly more instances with calc_position as 0.\n",
        "# To solve this, we could try balancing the dataset by oversampling the minority class or using techniques like SMOTE.\n",
        "\n",
        "#6. Implement one hot encoding on Race ID Column\n",
        "race_encoder = OneHotEncoder()\n",
        "race_encoded = race_encoder.fit_transform(df['race_id'].values.reshape(-1, 1)).toarray()\n",
        "race_encoded_df = pd.DataFrame(race_encoded, columns=[f'race_{int(cat)}' for cat in race_encoder.categories_[0]])\n",
        "\n",
        "#7. Implement One hot encoding for Horse ID Column\n",
        "horse_encoder = OneHotEncoder()\n",
        "horse_encoded = horse_encoder.fit_transform(df['horse_id'].values.reshape(-1, 1)).toarray()\n",
        "horse_encoded_df = pd.DataFrame(horse_encoded, columns=[f'horse_{int(cat)}' for cat in horse_encoder.categories_[0]])\n",
        "\n",
        "#8. Bonus: Use MLP to tarin a classifier\n",
        "common_indices = race_encoded_df.index.intersection(horse_encoded_df.index).intersection(df.index)\n",
        "race_encoded_df = race_encoded_df.loc[common_indices]\n",
        "horse_encoded_df = horse_encoded_df.loc[common_indices]\n",
        "df = df.loc[common_indices]\n",
        "X = pd.concat([df.iloc[:, 3:-2], race_encoded_df, horse_encoded_df], axis=1)\n",
        "y = df['calc_position']\n",
        "X_train, X_test, y_train, y_test = train_test_split(X, y, test_size=0.2, random_state=42)\n",
        "mlp_classifier = MLPClassifier(hidden_layer_sizes=(100, 50), max_iter=1000)\n",
        "mlp_classifier.fit(X_train, y_train)\n",
        "y_pred = mlp_classifier.predict(X_test)\n",
        "accuracy = accuracy_score(y_test, y_pred)\n",
        "print(f\"Accuracy: {accuracy}\")"
      ],
      "metadata": {
        "colab": {
          "base_uri": "https://localhost:8080/",
          "height": 750
        },
        "id": "K-14ITqPeB-R",
        "outputId": "4b3eccec-ee77-4a54-b2c8-1a2cecbdd5a1"
      },
      "execution_count": null,
      "outputs": [
        {
          "output_type": "stream",
          "name": "stdout",
          "text": [
            "Missing values:\n",
            "race_id              0\n",
            "horse_id             0\n",
            "1-101            64722\n",
            "1-102            64602\n",
            "1-103            64641\n",
            "                 ...  \n",
            "4-115            10352\n",
            "4-116            11402\n",
            "4-117             9470\n",
            "calc_position        4\n",
            "price                0\n",
            "Length: 64, dtype: int64\n",
            "Duplicate rows:\n",
            "0\n"
          ]
        },
        {
          "output_type": "display_data",
          "data": {
            "text/plain": [
              "<Figure size 640x480 with 1 Axes>"
            ],
            "image/png": "[encoded data removed]"
          },
          "metadata": {}
        },
        {
          "output_type": "stream",
          "name": "stdout",
          "text": [
            "Accuracy: 0.7043478260869566\n"
          ]
        }
      ]
    }
  ]
}